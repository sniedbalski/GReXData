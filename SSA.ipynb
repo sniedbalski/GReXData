{
 "cells": [
  {
   "cell_type": "code",
   "execution_count": 5,
   "id": "de00cfa9",
   "metadata": {},
   "outputs": [],
   "source": [
    "# Import modules\n",
    "from ssaClass import SSA"
   ]
  },
  {
   "cell_type": "code",
   "execution_count": 6,
   "id": "7d478f5d",
   "metadata": {},
   "outputs": [],
   "source": [
    "ssa = SSA(span=.6e9, freq_center=1.45e9, trace1='WRITe', rbw = 1e6)"
   ]
  },
  {
   "cell_type": "markdown",
   "id": "5e7a0348",
   "metadata": {},
   "source": [
    "ssa.collect(duration=1, period=20)\n",
    "ssa.save('shri_11-7_.25hr_0bd.npy')"
   ]
  },
  {
   "cell_type": "markdown",
   "id": "88cb0273",
   "metadata": {},
   "source": [
    "ssa.collect(duration=.5, period=10)\n",
    "ssa.save('lab_11-7_.5hr_20bd.npy')"
   ]
  },
  {
   "cell_type": "markdown",
   "id": "f99c10b4",
   "metadata": {},
   "source": [
    "ssa.collect(duration=.25, period=10)\n",
    "ssa.save('lab_11-7_.25hr_1bd.npy')"
   ]
  },
  {
   "cell_type": "markdown",
   "id": "6345cd97",
   "metadata": {},
   "source": [
    "ssa.collect(duration=1, period=20)\n",
    "ssa.save('lab_11-08_1hr_0bd.npy')"
   ]
  },
  {
   "cell_type": "markdown",
   "id": "cb403ba7",
   "metadata": {},
   "source": [
    "ssa.collect(duration=1, period=20)\n",
    "ssa.save('lab_11-08_1hr_20bd.npy')"
   ]
  },
  {
   "cell_type": "markdown",
   "id": "5f1418f0",
   "metadata": {},
   "source": [
    "ssa.collect(duration=.5, period=10)\n",
    "ssa.save('HBO_11-19_.5hr_20bd.npy')"
   ]
  },
  {
   "cell_type": "markdown",
   "id": "bbc4de3b",
   "metadata": {},
   "source": [
    "ssa.collect(duration=.5, period=20)\n",
    "ssa.save('site1_11-20_.5hr_0bd.npy')"
   ]
  },
  {
   "cell_type": "markdown",
   "id": "e55d903e",
   "metadata": {},
   "source": [
    "ssa.collect(duration=.3, period=10)\n",
    "ssa.save('site2_11-20_.5hr_0bd.npy')"
   ]
  },
  {
   "cell_type": "code",
   "execution_count": null,
   "id": "02548938",
   "metadata": {},
   "outputs": [],
   "source": []
  }
 ],
 "metadata": {
  "kernelspec": {
   "display_name": "main",
   "language": "python",
   "name": "main"
  },
  "language_info": {
   "codemirror_mode": {
    "name": "ipython",
    "version": 3
   },
   "file_extension": ".py",
   "mimetype": "text/x-python",
   "name": "python",
   "nbconvert_exporter": "python",
   "pygments_lexer": "ipython3",
   "version": "3.10.6"
  }
 },
 "nbformat": 4,
 "nbformat_minor": 5
}
